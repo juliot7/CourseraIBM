{
 "cells": [
  {
   "cell_type": "markdown",
   "id": "c5704f0a-888b-4d69-ba74-95e88e6d0b30",
   "metadata": {},
   "source": [
    "# Data Science Tools and Ecosystem"
   ]
  },
  {
   "cell_type": "markdown",
   "id": "3b93e9ed-ac54-4ad0-93ce-43bf63d94220",
   "metadata": {},
   "source": [
    "In this notebook, we are going to talk about Data Science Tools and its Ecosystem."
   ]
  },
  {
   "cell_type": "markdown",
   "id": "8808c04f-2ced-4938-87b6-7003108f7fe6",
   "metadata": {},
   "source": [
    "**Objectives:**\n",
    "* List of popular languages for Data Science\n",
    "* Commonly used libraries used by Data Scientists\n",
    "* Some Data Science Tools\n",
    "* Examples of arithmetic evaluation in Python\n",
    "\n"
   ]
  },
  {
   "cell_type": "markdown",
   "id": "7c069cad-af8c-450a-8a4e-5b53f508b180",
   "metadata": {
    "tags": []
   },
   "source": [
    "Some of the popular languages that Data Scientists use are:\n",
    "1. Julia\n",
    "2. Python\n",
    "3. R"
   ]
  },
  {
   "cell_type": "markdown",
   "id": "2458259b-8418-4659-96c5-cba6aba9ebb1",
   "metadata": {},
   "source": [
    "Some of the commonly used libraries used by Data Scientists include:\n",
    "\n",
    "1. TensorFlow\n",
    "2. NumPy\n",
    "3. Pandas"
   ]
  },
  {
   "cell_type": "markdown",
   "id": "07b2a8f0-871a-4e60-8e00-9c8f3006dc1f",
   "metadata": {},
   "source": [
    "| Data Science Tools |\n",
    "------------------\n",
    "| Jupyter Notebooks|\n",
    "|Apache Zeppelin|\n",
    "|RStudio|"
   ]
  },
  {
   "cell_type": "markdown",
   "id": "bb3dda44-92a1-4fe9-8a73-7fbfb95c0fd8",
   "metadata": {
    "tags": []
   },
   "source": [
    "### Below are a few examples of evaluating arithmetic expressions in Python"
   ]
  },
  {
   "cell_type": "code",
   "execution_count": 1,
   "id": "05a9a22c-1909-4db0-9e9e-be0bfe7ecc29",
   "metadata": {},
   "outputs": [
    {
     "data": {
      "text/plain": [
       "17"
      ]
     },
     "execution_count": 1,
     "metadata": {},
     "output_type": "execute_result"
    }
   ],
   "source": [
    "#This a simple arithmetic expression to mutiply then add integers\n",
    "(3*4)+5"
   ]
  },
  {
   "cell_type": "code",
   "execution_count": 8,
   "id": "43b16a84-f898-4b80-b82a-d0bee6b97459",
   "metadata": {},
   "outputs": [
    {
     "data": {
      "text/plain": [
       "3.3333333333333335"
      ]
     },
     "execution_count": 8,
     "metadata": {},
     "output_type": "execute_result"
    }
   ],
   "source": [
    "#This will convert 200 minutes to hours by diving by 60\n",
    "(200/60)"
   ]
  },
  {
   "cell_type": "markdown",
   "id": "abd5db94-78a5-47e9-aaac-14361206363d",
   "metadata": {},
   "source": [
    "## Author\n",
    "Julio Thibes"
   ]
  }
 ],
 "metadata": {
  "kernelspec": {
   "display_name": "anaconda-panel-2023.05-py310",
   "language": "python",
   "name": "conda-env-anaconda-panel-2023.05-py310-py"
  },
  "language_info": {
   "codemirror_mode": {
    "name": "ipython",
    "version": 3
   },
   "file_extension": ".py",
   "mimetype": "text/x-python",
   "name": "python",
   "nbconvert_exporter": "python",
   "pygments_lexer": "ipython3",
   "version": "3.11.3"
  }
 },
 "nbformat": 4,
 "nbformat_minor": 5
}
